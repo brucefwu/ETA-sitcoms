{
 "cells": [
  {
   "cell_type": "markdown",
   "metadata": {},
   "source": [
    "# Configuration"
   ]
  },
  {
   "cell_type": "code",
   "execution_count": 1,
   "metadata": {},
   "outputs": [],
   "source": [
    "topics_file = 'sitcoms-topic-keys.txt'\n",
    "topics_cols = ['topic_num', 'alpha', 'top_unigrams']"
   ]
  },
  {
   "cell_type": "markdown",
   "metadata": {},
   "source": [
    "# Libraries"
   ]
  },
  {
   "cell_type": "code",
   "execution_count": 2,
   "metadata": {},
   "outputs": [],
   "source": [
    "import pandas as pd\n",
    "pd.set_option('display.max_colwidth', -1)"
   ]
  },
  {
   "cell_type": "markdown",
   "metadata": {},
   "source": [
    "# Process"
   ]
  },
  {
   "cell_type": "code",
   "execution_count": 3,
   "metadata": {},
   "outputs": [],
   "source": [
    "topics = pd.read_csv(topics_file, sep='\\t', header=None)\n",
    "topics.columns = topics_cols\n",
    "topics.topic_num += 1\n",
    "topics = topics.set_index('topic_num')"
   ]
  },
  {
   "cell_type": "markdown",
   "metadata": {},
   "source": [
    "# Topics"
   ]
  },
  {
   "cell_type": "code",
   "execution_count": 4,
   "metadata": {},
   "outputs": [
    {
     "data": {
      "text/html": [
       "<div>\n",
       "<style scoped>\n",
       "    .dataframe tbody tr th:only-of-type {\n",
       "        vertical-align: middle;\n",
       "    }\n",
       "\n",
       "    .dataframe tbody tr th {\n",
       "        vertical-align: top;\n",
       "    }\n",
       "\n",
       "    .dataframe thead th {\n",
       "        text-align: right;\n",
       "    }\n",
       "</style>\n",
       "<table border=\"1\" class=\"dataframe\">\n",
       "  <thead>\n",
       "    <tr style=\"text-align: right;\">\n",
       "      <th></th>\n",
       "      <th>alpha</th>\n",
       "      <th>top_unigrams</th>\n",
       "    </tr>\n",
       "    <tr>\n",
       "      <th>topic_num</th>\n",
       "      <th></th>\n",
       "      <th></th>\n",
       "    </tr>\n",
       "  </thead>\n",
       "  <tbody>\n",
       "    <tr>\n",
       "      <th>1</th>\n",
       "      <td>2.01202</td>\n",
       "      <td>gon see guys great man let could sorry much mean thing sure yes actually need lot thought guy something call</td>\n",
       "    </tr>\n",
       "    <tr>\n",
       "      <th>6</th>\n",
       "      <td>1.60359</td>\n",
       "      <td>say two let need talk way people love day even put never made make nothing find also feel could bad</td>\n",
       "    </tr>\n",
       "    <tr>\n",
       "      <th>14</th>\n",
       "      <td>1.56338</td>\n",
       "      <td>want going take okay come look yes stop people please back home tell everybody office make three second last car</td>\n",
       "    </tr>\n",
       "    <tr>\n",
       "      <th>11</th>\n",
       "      <td>0.44393</td>\n",
       "      <td>yes going office back company sales today day alright paper branch come everybody god desk business meeting warehouse gay question</td>\n",
       "    </tr>\n",
       "    <tr>\n",
       "      <th>12</th>\n",
       "      <td>0.41914</td>\n",
       "      <td>job manager want new plan company work assistant might office team interview raise position dream gone regional list news charge</td>\n",
       "    </tr>\n",
       "    <tr>\n",
       "      <th>5</th>\n",
       "      <td>0.32793</td>\n",
       "      <td>tonight wedding love night married date happy drink party gay band song award wine beer music mom ladies dinner beautiful</td>\n",
       "    </tr>\n",
       "    <tr>\n",
       "      <th>3</th>\n",
       "      <td>0.30245</td>\n",
       "      <td>park government town city campaign idea vote department pit amazing parks win gon meeting public house tomorrow council team literally</td>\n",
       "    </tr>\n",
       "    <tr>\n",
       "      <th>9</th>\n",
       "      <td>0.21445</td>\n",
       "      <td>women club woman sex men girls boys relationship husband office record pregnant email sent penis photo mistake trash store treat</td>\n",
       "    </tr>\n",
       "    <tr>\n",
       "      <th>7</th>\n",
       "      <td>0.19294</td>\n",
       "      <td>paper company money business clients sell idea offer client sales salesman sale leads make place farm phone ideas chairs decision</td>\n",
       "    </tr>\n",
       "    <tr>\n",
       "      <th>16</th>\n",
       "      <td>0.18809</td>\n",
       "      <td>new money concert free business perfect help land sebastian merger place town store sign stick tax library slogan pizza charity</td>\n",
       "    </tr>\n",
       "    <tr>\n",
       "      <th>2</th>\n",
       "      <td>0.17954</td>\n",
       "      <td>birthday cake happy party surprise mother possum lice old camping blood bear bears sick pee planning whoa eat floor wash</td>\n",
       "    </tr>\n",
       "    <tr>\n",
       "      <th>15</th>\n",
       "      <td>0.17543</td>\n",
       "      <td>black dead prison heart test police drugs kid died somebody urine hit indian punch high name die alive hero bird</td>\n",
       "    </tr>\n",
       "    <tr>\n",
       "      <th>10</th>\n",
       "      <td>0.16741</td>\n",
       "      <td>show god presentation trip sing head shot open son boo prank song station special toast hunting shoot ten week ring</td>\n",
       "    </tr>\n",
       "    <tr>\n",
       "      <th>8</th>\n",
       "      <td>0.16321</td>\n",
       "      <td>baby art dance bus beautiful water call mural pounds fish fat watch paint painting weight hospital shh crib corn shower</td>\n",
       "    </tr>\n",
       "    <tr>\n",
       "      <th>4</th>\n",
       "      <td>0.15685</td>\n",
       "      <td>party tonight gift pizza night parties planning pum looks tree costume bachelor cupcakes making committee tickets neck dead drink beep</td>\n",
       "    </tr>\n",
       "    <tr>\n",
       "      <th>13</th>\n",
       "      <td>0.13791</td>\n",
       "      <td>sick book pie born world boat points family flu business school foot money ship rabies chop grid capsule pies hospital</td>\n",
       "    </tr>\n",
       "  </tbody>\n",
       "</table>\n",
       "</div>"
      ],
      "text/plain": [
       "             alpha  \\\n",
       "topic_num            \n",
       "1          2.01202   \n",
       "6          1.60359   \n",
       "14         1.56338   \n",
       "11         0.44393   \n",
       "12         0.41914   \n",
       "5          0.32793   \n",
       "3          0.30245   \n",
       "9          0.21445   \n",
       "7          0.19294   \n",
       "16         0.18809   \n",
       "2          0.17954   \n",
       "15         0.17543   \n",
       "10         0.16741   \n",
       "8          0.16321   \n",
       "4          0.15685   \n",
       "13         0.13791   \n",
       "\n",
       "                                                                                                                                      top_unigrams  \n",
       "topic_num                                                                                                                                           \n",
       "1          gon see guys great man let could sorry much mean thing sure yes actually need lot thought guy something call                             \n",
       "6          say two let need talk way people love day even put never made make nothing find also feel could bad                                      \n",
       "14         want going take okay come look yes stop people please back home tell everybody office make three second last car                         \n",
       "11         yes going office back company sales today day alright paper branch come everybody god desk business meeting warehouse gay question       \n",
       "12         job manager want new plan company work assistant might office team interview raise position dream gone regional list news charge         \n",
       "5          tonight wedding love night married date happy drink party gay band song award wine beer music mom ladies dinner beautiful                \n",
       "3          park government town city campaign idea vote department pit amazing parks win gon meeting public house tomorrow council team literally   \n",
       "9          women club woman sex men girls boys relationship husband office record pregnant email sent penis photo mistake trash store treat         \n",
       "7          paper company money business clients sell idea offer client sales salesman sale leads make place farm phone ideas chairs decision        \n",
       "16         new money concert free business perfect help land sebastian merger place town store sign stick tax library slogan pizza charity          \n",
       "2          birthday cake happy party surprise mother possum lice old camping blood bear bears sick pee planning whoa eat floor wash                 \n",
       "15         black dead prison heart test police drugs kid died somebody urine hit indian punch high name die alive hero bird                         \n",
       "10         show god presentation trip sing head shot open son boo prank song station special toast hunting shoot ten week ring                      \n",
       "8          baby art dance bus beautiful water call mural pounds fish fat watch paint painting weight hospital shh crib corn shower                  \n",
       "4          party tonight gift pizza night parties planning pum looks tree costume bachelor cupcakes making committee tickets neck dead drink beep   \n",
       "13         sick book pie born world boat points family flu business school foot money ship rabies chop grid capsule pies hospital                   "
      ]
     },
     "execution_count": 4,
     "metadata": {},
     "output_type": "execute_result"
    }
   ],
   "source": [
    "topics.sort_values(by='alpha', ascending=False)"
   ]
  },
  {
   "cell_type": "code",
   "execution_count": 5,
   "metadata": {},
   "outputs": [
    {
     "data": {
      "text/html": [
       "<div>\n",
       "<style scoped>\n",
       "    .dataframe tbody tr th:only-of-type {\n",
       "        vertical-align: middle;\n",
       "    }\n",
       "\n",
       "    .dataframe tbody tr th {\n",
       "        vertical-align: top;\n",
       "    }\n",
       "\n",
       "    .dataframe thead th {\n",
       "        text-align: right;\n",
       "    }\n",
       "</style>\n",
       "<table border=\"1\" class=\"dataframe\">\n",
       "  <thead>\n",
       "    <tr style=\"text-align: right;\">\n",
       "      <th></th>\n",
       "      <th>alpha</th>\n",
       "      <th>top_unigrams</th>\n",
       "    </tr>\n",
       "    <tr>\n",
       "      <th>topic_num</th>\n",
       "      <th></th>\n",
       "      <th></th>\n",
       "    </tr>\n",
       "  </thead>\n",
       "  <tbody>\n",
       "    <tr>\n",
       "      <th>12</th>\n",
       "      <td>0.41914</td>\n",
       "      <td>job manager want new plan company work assistant might office team interview raise position dream gone regional list news charge</td>\n",
       "    </tr>\n",
       "    <tr>\n",
       "      <th>5</th>\n",
       "      <td>0.32793</td>\n",
       "      <td>tonight wedding love night married date happy drink party gay band song award wine beer music mom ladies dinner beautiful</td>\n",
       "    </tr>\n",
       "    <tr>\n",
       "      <th>3</th>\n",
       "      <td>0.30245</td>\n",
       "      <td>park government town city campaign idea vote department pit amazing parks win gon meeting public house tomorrow council team literally</td>\n",
       "    </tr>\n",
       "    <tr>\n",
       "      <th>9</th>\n",
       "      <td>0.21445</td>\n",
       "      <td>women club woman sex men girls boys relationship husband office record pregnant email sent penis photo mistake trash store treat</td>\n",
       "    </tr>\n",
       "    <tr>\n",
       "      <th>7</th>\n",
       "      <td>0.19294</td>\n",
       "      <td>paper company money business clients sell idea offer client sales salesman sale leads make place farm phone ideas chairs decision</td>\n",
       "    </tr>\n",
       "  </tbody>\n",
       "</table>\n",
       "</div>"
      ],
      "text/plain": [
       "             alpha  \\\n",
       "topic_num            \n",
       "12         0.41914   \n",
       "5          0.32793   \n",
       "3          0.30245   \n",
       "9          0.21445   \n",
       "7          0.19294   \n",
       "\n",
       "                                                                                                                                      top_unigrams  \n",
       "topic_num                                                                                                                                           \n",
       "12         job manager want new plan company work assistant might office team interview raise position dream gone regional list news charge         \n",
       "5          tonight wedding love night married date happy drink party gay band song award wine beer music mom ladies dinner beautiful                \n",
       "3          park government town city campaign idea vote department pit amazing parks win gon meeting public house tomorrow council team literally   \n",
       "9          women club woman sex men girls boys relationship husband office record pregnant email sent penis photo mistake trash store treat         \n",
       "7          paper company money business clients sell idea offer client sales salesman sale leads make place farm phone ideas chairs decision        "
      ]
     },
     "execution_count": 5,
     "metadata": {},
     "output_type": "execute_result"
    }
   ],
   "source": [
    "# pick out the sensible topics in the middle\n",
    "topics.loc[[12,5,3,9,7]]"
   ]
  },
  {
   "cell_type": "code",
   "execution_count": 6,
   "metadata": {},
   "outputs": [
    {
     "data": {
      "text/plain": [
       "alpha           0.41914                                                                                                                          \n",
       "top_unigrams    job manager want new plan company work assistant might office team interview raise position dream gone regional list news charge \n",
       "Name: 12, dtype: object"
      ]
     },
     "execution_count": 6,
     "metadata": {},
     "output_type": "execute_result"
    }
   ],
   "source": [
    "topics.loc[12]\n",
    "# work in general"
   ]
  },
  {
   "cell_type": "code",
   "execution_count": 7,
   "metadata": {},
   "outputs": [
    {
     "data": {
      "text/plain": [
       "alpha           0.32793                                                                                                                   \n",
       "top_unigrams    tonight wedding love night married date happy drink party gay band song award wine beer music mom ladies dinner beautiful \n",
       "Name: 5, dtype: object"
      ]
     },
     "execution_count": 7,
     "metadata": {},
     "output_type": "execute_result"
    }
   ],
   "source": [
    "topics.loc[5]\n",
    "# live laugh love"
   ]
  },
  {
   "cell_type": "code",
   "execution_count": 8,
   "metadata": {},
   "outputs": [
    {
     "data": {
      "text/plain": [
       "alpha           0.30245                                                                                                                                \n",
       "top_unigrams    park government town city campaign idea vote department pit amazing parks win gon meeting public house tomorrow council team literally \n",
       "Name: 3, dtype: object"
      ]
     },
     "execution_count": 8,
     "metadata": {},
     "output_type": "execute_result"
    }
   ],
   "source": [
    "topics.loc[3]\n",
    "# city government work"
   ]
  },
  {
   "cell_type": "code",
   "execution_count": 9,
   "metadata": {},
   "outputs": [
    {
     "data": {
      "text/plain": [
       "alpha           0.21445                                                                                                                          \n",
       "top_unigrams    women club woman sex men girls boys relationship husband office record pregnant email sent penis photo mistake trash store treat \n",
       "Name: 9, dtype: object"
      ]
     },
     "execution_count": 9,
     "metadata": {},
     "output_type": "execute_result"
    }
   ],
   "source": [
    "topics.loc[9]\n",
    "# sex and relationships"
   ]
  },
  {
   "cell_type": "code",
   "execution_count": 10,
   "metadata": {},
   "outputs": [
    {
     "data": {
      "text/plain": [
       "alpha           0.19294                                                                                                                           \n",
       "top_unigrams    paper company money business clients sell idea offer client sales salesman sale leads make place farm phone ideas chairs decision \n",
       "Name: 7, dtype: object"
      ]
     },
     "execution_count": 10,
     "metadata": {},
     "output_type": "execute_result"
    }
   ],
   "source": [
    "topics.loc[7]\n",
    "# paper company work"
   ]
  }
 ],
 "metadata": {
  "kernelspec": {
   "display_name": "Python 3",
   "language": "python",
   "name": "python3"
  },
  "language_info": {
   "codemirror_mode": {
    "name": "ipython",
    "version": 3
   },
   "file_extension": ".py",
   "mimetype": "text/x-python",
   "name": "python",
   "nbconvert_exporter": "python",
   "pygments_lexer": "ipython3",
   "version": "3.7.1"
  }
 },
 "nbformat": 4,
 "nbformat_minor": 2
}
